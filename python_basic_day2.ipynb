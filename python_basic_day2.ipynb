{
 "cells": [
  {
   "cell_type": "markdown",
   "id": "65a6f910",
   "metadata": {},
   "source": [
    "# string indexing and slicing"
   ]
  },
  {
   "cell_type": "code",
   "execution_count": 1,
   "id": "4aadc035",
   "metadata": {},
   "outputs": [
    {
     "name": "stdout",
     "output_type": "stream",
     "text": [
      "y\n"
     ]
    }
   ],
   "source": [
    "s='university'\n",
    "print(s[len(s)-1:])"
   ]
  },
  {
   "cell_type": "code",
   "execution_count": 2,
   "id": "e3ff38db",
   "metadata": {},
   "outputs": [
    {
     "name": "stdout",
     "output_type": "stream",
     "text": [
      "y\n"
     ]
    }
   ],
   "source": [
    "print(s[-1])"
   ]
  },
  {
   "cell_type": "code",
   "execution_count": 3,
   "id": "6ef3aca2",
   "metadata": {},
   "outputs": [
    {
     "name": "stdout",
     "output_type": "stream",
     "text": [
      "v\n"
     ]
    }
   ],
   "source": [
    "print(s[3])"
   ]
  },
  {
   "cell_type": "code",
   "execution_count": 4,
   "id": "533e8961",
   "metadata": {},
   "outputs": [
    {
     "name": "stdout",
     "output_type": "stream",
     "text": [
      "nive\n"
     ]
    }
   ],
   "source": [
    "print(s[1:5])"
   ]
  },
  {
   "cell_type": "code",
   "execution_count": 5,
   "id": "3b33ca02",
   "metadata": {},
   "outputs": [
    {
     "name": "stdout",
     "output_type": "stream",
     "text": [
      "univer\n"
     ]
    }
   ],
   "source": [
    "print(s[:6])"
   ]
  },
  {
   "cell_type": "code",
   "execution_count": 6,
   "id": "36d83dac",
   "metadata": {},
   "outputs": [
    {
     "name": "stdout",
     "output_type": "stream",
     "text": [
      "rsity\n"
     ]
    }
   ],
   "source": [
    "print(s[5:])"
   ]
  },
  {
   "cell_type": "code",
   "execution_count": 10,
   "id": "7bdeb865",
   "metadata": {},
   "outputs": [
    {
     "name": "stdout",
     "output_type": "stream",
     "text": [
      "universit\n",
      "university\n"
     ]
    }
   ],
   "source": [
    "#negative indexing\n",
    "\n",
    "print(s[-10:-1])\n",
    "\n",
    "print(s[-10:])"
   ]
  },
  {
   "cell_type": "code",
   "execution_count": 12,
   "id": "d534f618",
   "metadata": {},
   "outputs": [
    {
     "name": "stdout",
     "output_type": "stream",
     "text": [
      "enter the principle amount:12000\n",
      "enter the rate of interest:12\n",
      "enter the time:4\n",
      "the simple interest will be:5760.0\n"
     ]
    }
   ],
   "source": [
    "#program for printing the simple interest\n",
    "\n",
    "p=int(input('enter the principle amount:'))\n",
    "r=int(input('enter the rate of interest:'))\n",
    "t=int(input('enter the time:'))\n",
    "si=(p*r*t)/100\n",
    "print(f'the simple interest will be:{si}')"
   ]
  },
  {
   "cell_type": "code",
   "execution_count": 16,
   "id": "4a2e0e05",
   "metadata": {},
   "outputs": [
    {
     "name": "stdout",
     "output_type": "stream",
     "text": [
      "current letter: p\n",
      "current letter: y\n",
      "current letter: t\n",
      "current letter: h\n",
      "current letter: o\n",
      "current letter: n\n"
     ]
    }
   ],
   "source": [
    "#for loop\n",
    "\n",
    "for i in 'python':\n",
    "    print('current letter:',i)"
   ]
  },
  {
   "cell_type": "code",
   "execution_count": 21,
   "id": "2b09a1b9",
   "metadata": {},
   "outputs": [
    {
     "name": "stdout",
     "output_type": "stream",
     "text": [
      "yes it was true\n"
     ]
    }
   ],
   "source": [
    "x=True\n",
    "if(x):\n",
    "    print('yes it was true')"
   ]
  },
  {
   "cell_type": "code",
   "execution_count": 23,
   "id": "af345008",
   "metadata": {},
   "outputs": [
    {
     "name": "stdout",
     "output_type": "stream",
     "text": [
      "i will be printed in my case x where is not true\n"
     ]
    }
   ],
   "source": [
    "x=False\n",
    "if(x):\n",
    "    print('yes it was true')\n",
    "    \n",
    "else:\n",
    "    print('i will be printed in my case {} where is not true'.format('x'))"
   ]
  },
  {
   "cell_type": "markdown",
   "id": "4ecd8af9",
   "metadata": {},
   "source": [
    "# multiple branches"
   ]
  },
  {
   "cell_type": "code",
   "execution_count": 26,
   "id": "fd114854",
   "metadata": {},
   "outputs": [
    {
     "name": "stdout",
     "output_type": "stream",
     "text": [
      "welcome to andhra pradesh.\n"
     ]
    }
   ],
   "source": [
    "loc='andhra pradesh'\n",
    "if(loc=='bangalore'):\n",
    "    print('welcome to bangalore.')\n",
    "elif(loc=='andhra pradesh'):\n",
    "    print('welcome to andhra pradesh.')\n",
    "else:\n",
    "    print('sory');"
   ]
  },
  {
   "cell_type": "code",
   "execution_count": 32,
   "id": "40fe58e9",
   "metadata": {},
   "outputs": [
    {
     "name": "stdout",
     "output_type": "stream",
     "text": [
      "1\n",
      "2\n",
      "3\n",
      "4\n",
      "5\n",
      "6\n",
      "7\n",
      "8\n",
      "9\n",
      "10\n"
     ]
    }
   ],
   "source": [
    "list1=[1,2,3,4,5,6,7,8,9,10]\n",
    "for i in list1:\n",
    "    print(i)"
   ]
  },
  {
   "cell_type": "code",
   "execution_count": 34,
   "id": "c220e144",
   "metadata": {},
   "outputs": [
    {
     "name": "stdout",
     "output_type": "stream",
     "text": [
      "1 is odd number.\n",
      "2\n",
      "3 is odd number.\n",
      "4\n",
      "5 is odd number.\n",
      "6\n",
      "7 is odd number.\n",
      "8\n",
      "9 is odd number.\n",
      "10\n"
     ]
    }
   ],
   "source": [
    "for num in list1:\n",
    "    if num%2==0:\n",
    "        print(num)\n",
    "    else:\n",
    "        print('{} is odd number.'.format(num))"
   ]
  },
  {
   "cell_type": "code",
   "execution_count": null,
   "id": "e215a89c",
   "metadata": {},
   "outputs": [],
   "source": []
  },
  {
   "cell_type": "code",
   "execution_count": null,
   "id": "87f6bd20",
   "metadata": {},
   "outputs": [],
   "source": []
  },
  {
   "cell_type": "code",
   "execution_count": 5,
   "id": "c553d55c",
   "metadata": {},
   "outputs": [
    {
     "name": "stdout",
     "output_type": "stream",
     "text": [
      "55\n"
     ]
    }
   ],
   "source": [
    "list1=[1,2,3,4,5,6,7,8,9,10]\n",
    "list_sum=0\n",
    "for num in list1:\n",
    "    list_sum=list_sum+num\n",
    "print(list_sum)"
   ]
  },
  {
   "cell_type": "code",
   "execution_count": 7,
   "id": "3436b6b0",
   "metadata": {},
   "outputs": [
    {
     "name": "stdout",
     "output_type": "stream",
     "text": [
      "the count is: 0\n",
      "the count is: 1\n",
      "the count is: 2\n",
      "the count is: 3\n",
      "the count is: 4\n",
      "the count is: 5\n",
      "the count is: 6\n",
      "the count is: 7\n",
      "the count is: 8\n",
      "Good Bye!\n"
     ]
    }
   ],
   "source": [
    "count=0\n",
    "while(count<9):\n",
    "    print('the count is:',count)\n",
    "#     count=count+1\n",
    "print('Good Bye!')"
   ]
  },
  {
   "cell_type": "code",
   "execution_count": 8,
   "id": "1e31f720",
   "metadata": {},
   "outputs": [
    {
     "name": "stdout",
     "output_type": "stream",
     "text": [
      "the current fruit is: mango\n",
      "the current fruit is: banana\n",
      "the current fruit is: apple\n"
     ]
    }
   ],
   "source": [
    "fruits=['mango','banana','apple']\n",
    "for fruit in fruits:\n",
    "    print('the current fruit is:',fruit)"
   ]
  },
  {
   "cell_type": "code",
   "execution_count": 13,
   "id": "40fc9273",
   "metadata": {},
   "outputs": [
    {
     "name": "stdout",
     "output_type": "stream",
     "text": [
      "10 equals 2 0\n",
      "11 is a prime number\n",
      "12 equals 2 0\n",
      "13 is a prime number\n",
      "14 equals 2 0\n",
      "15 is a prime number\n",
      "16 equals 2 0\n",
      "17 is a prime number\n",
      "18 equals 2 0\n",
      "19 is a prime number\n"
     ]
    }
   ],
   "source": [
    "for num in range(10,20):\n",
    "    for i in range(2,num):\n",
    "        if num%i==0:\n",
    "            j=num%i\n",
    "            print('%d equals %d %d'%(num,i,j))\n",
    "            break\n",
    "        else:\n",
    "            print(num,'is a prime number')\n",
    "            break"
   ]
  },
  {
   "cell_type": "code",
   "execution_count": 16,
   "id": "c2d77f81",
   "metadata": {},
   "outputs": [
    {
     "name": "stdout",
     "output_type": "stream",
     "text": [
      "10 is divisible by 2\n",
      "\n",
      "11 is a prime number\n",
      "12 is divisible by 2\n",
      "\n",
      "13 is a prime number\n",
      "14 is divisible by 2\n",
      "\n",
      "15 is a prime number\n",
      "16 is divisible by 2\n",
      "\n",
      "17 is a prime number\n",
      "18 is divisible by 2\n",
      "\n",
      "19 is a prime number\n"
     ]
    }
   ],
   "source": [
    "for num in range(10,20):\n",
    "    for i in range(2,num):\n",
    "        if(num%i==0):\n",
    "            print('%d is divisible by %d\\n'%(num,i))\n",
    "            break\n",
    "        else:\n",
    "            print('%d is a prime number'%(num))\n",
    "            break"
   ]
  },
  {
   "cell_type": "code",
   "execution_count": 19,
   "id": "d4f2f158",
   "metadata": {},
   "outputs": [
    {
     "name": "stdout",
     "output_type": "stream",
     "text": [
      "x is currently: 0\n",
      "x is still less than 10,adding 1 to it\n",
      "x is currently: 1\n",
      "x is still less than 10,adding 1 to it\n",
      "x is currently: 2\n",
      "x is still less than 10,adding 1 to it\n",
      "x is currently: 3\n",
      "x is still less than 10,adding 1 to it\n",
      "x is currently: 4\n",
      "x is still less than 10,adding 1 to it\n",
      "x is currently: 5\n",
      "x is still less than 10,adding 1 to it\n",
      "x is currently: 6\n",
      "x is still less than 10,adding 1 to it\n",
      "x is currently: 7\n",
      "x is still less than 10,adding 1 to it\n",
      "x is currently: 8\n",
      "x is still less than 10,adding 1 to it\n",
      "x is currently: 9\n",
      "x is still less than 10,adding 1 to it\n",
      "ALL DONE\n"
     ]
    }
   ],
   "source": [
    "x=0\n",
    "while x<10:\n",
    "    if(x<10):\n",
    "        print('x is currently:',x)\n",
    "        print('x is still less than 10,adding 1 to it')\n",
    "        x+=1\n",
    "print('ALL DONE')"
   ]
  },
  {
   "cell_type": "code",
   "execution_count": 20,
   "id": "839e86ed",
   "metadata": {},
   "outputs": [
    {
     "name": "stdout",
     "output_type": "stream",
     "text": [
      "['e', 'd', 'u', 'n', 'e', 't']\n"
     ]
    }
   ],
   "source": [
    "\n",
    "lst=[x for x in 'edunet']\n",
    "print(lst)"
   ]
  },
  {
   "cell_type": "code",
   "execution_count": 22,
   "id": "6f0fbbfb",
   "metadata": {},
   "outputs": [
    {
     "name": "stdout",
     "output_type": "stream",
     "text": [
      "0\n",
      "1\n",
      "2\n",
      "3\n",
      "4\n",
      "5\n",
      "6\n",
      "7\n",
      "8\n",
      "9\n"
     ]
    }
   ],
   "source": [
    "for x in range(10):\n",
    "    print(x)"
   ]
  },
  {
   "cell_type": "code",
   "execution_count": 23,
   "id": "d2b0831b",
   "metadata": {},
   "outputs": [
    {
     "name": "stdout",
     "output_type": "stream",
     "text": [
      "e\n",
      "d\n",
      "u\n",
      "n\n",
      "e\n",
      "t\n"
     ]
    }
   ],
   "source": [
    "for i in 'edunet':\n",
    "    print(i)"
   ]
  },
  {
   "cell_type": "code",
   "execution_count": 24,
   "id": "c89199c9",
   "metadata": {},
   "outputs": [
    {
     "name": "stdout",
     "output_type": "stream",
     "text": [
      "0\n",
      "2\n",
      "4\n",
      "6\n",
      "8\n",
      "10\n",
      "12\n",
      "14\n",
      "16\n",
      "18\n"
     ]
    }
   ],
   "source": [
    "for i in range(0,20,2):\n",
    "    print(i)"
   ]
  },
  {
   "cell_type": "code",
   "execution_count": 27,
   "id": "8d5c3faa",
   "metadata": {},
   "outputs": [
    {
     "name": "stdout",
     "output_type": "stream",
     "text": [
      "[0, 9, 36, 81]\n"
     ]
    }
   ],
   "source": [
    "#square numbers in range and turn it into list\n",
    "sqr_list=[x**2 for x in range(0,10,3)]\n",
    "print(sqr_list)\n"
   ]
  },
  {
   "cell_type": "code",
   "execution_count": 28,
   "id": "e6902c84",
   "metadata": {},
   "outputs": [
    {
     "name": "stdout",
     "output_type": "stream",
     "text": [
      "1\n",
      "3\n",
      "5\n",
      "7\n"
     ]
    }
   ],
   "source": [
    "x=range(1,9,2)\n",
    "for n in x:\n",
    "    print(n)"
   ]
  },
  {
   "cell_type": "markdown",
   "id": "b9ea9073",
   "metadata": {},
   "source": [
    "# Functions"
   ]
  },
  {
   "cell_type": "code",
   "execution_count": null,
   "id": "2d07b3e8",
   "metadata": {},
   "outputs": [],
   "source": []
  },
  {
   "cell_type": "code",
   "execution_count": 3,
   "id": "7da5070e",
   "metadata": {},
   "outputs": [
    {
     "name": "stdout",
     "output_type": "stream",
     "text": [
      "1.7320508075688772\n"
     ]
    }
   ],
   "source": [
    "import math\n",
    "sqr=math.sqrt(3)\n",
    "print(sqr)"
   ]
  },
  {
   "cell_type": "code",
   "execution_count": 4,
   "id": "75f2d46f",
   "metadata": {},
   "outputs": [
    {
     "name": "stdout",
     "output_type": "stream",
     "text": [
      "1\n",
      "2\n",
      "3\n"
     ]
    }
   ],
   "source": [
    "i=1\n",
    "while i<9:\n",
    "    print(i)\n",
    "    if(i==3):\n",
    "        break\n",
    "    i+=1"
   ]
  },
  {
   "cell_type": "code",
   "execution_count": 6,
   "id": "1ee0fa50",
   "metadata": {},
   "outputs": [
    {
     "name": "stdout",
     "output_type": "stream",
     "text": [
      "1\n",
      "2\n",
      "4\n",
      "5\n",
      "6\n",
      "7\n",
      "8\n",
      "9\n",
      "10\n"
     ]
    }
   ],
   "source": [
    "i=0\n",
    "while(i<10):\n",
    "    i+=1\n",
    "    if(i==3):\n",
    "        continue\n",
    "    print(i)"
   ]
  },
  {
   "cell_type": "markdown",
   "id": "ca130fe4",
   "metadata": {},
   "source": [
    "# python import statement"
   ]
  },
  {
   "cell_type": "code",
   "execution_count": 7,
   "id": "fe158844",
   "metadata": {},
   "outputs": [
    {
     "name": "stdout",
     "output_type": "stream",
     "text": [
      "['hello world', 10]\n"
     ]
    }
   ],
   "source": [
    "#a python function to return multiple values from a method using lists\n",
    "\n",
    "def fun():\n",
    "    str='hello world'\n",
    "    x=10\n",
    "    return [str,x];\n",
    "\n",
    "lists=fun()\n",
    "print(lists)"
   ]
  },
  {
   "cell_type": "code",
   "execution_count": 9,
   "id": "92b67ebc",
   "metadata": {},
   "outputs": [
    {
     "name": "stdout",
     "output_type": "stream",
     "text": [
      "the value is 10\n"
     ]
    }
   ],
   "source": [
    "#defining the function\n",
    "def show(d):\n",
    "    print('the value is',d)\n",
    "    \n",
    "#calling the function\n",
    "a=10\n",
    "show(a)"
   ]
  },
  {
   "cell_type": "code",
   "execution_count": 11,
   "id": "9f6634bf",
   "metadata": {},
   "outputs": [
    {
     "name": "stdout",
     "output_type": "stream",
     "text": [
      "hello mr.radharaman,good morning!\n"
     ]
    }
   ],
   "source": [
    "def greetings(s):\n",
    "    print(f'hello mr.{s},good morning!')\n",
    "    \n",
    "greetings('radharaman')"
   ]
  },
  {
   "cell_type": "code",
   "execution_count": 14,
   "id": "8510b195",
   "metadata": {},
   "outputs": [
    {
     "name": "stdout",
     "output_type": "stream",
     "text": [
      "value of a inside function or local variable is: 20\n",
      "value of outside function: 10\n"
     ]
    }
   ],
   "source": [
    "def test1():\n",
    "    a=20\n",
    "    print('value of a inside function or local variable is:',a)\n",
    "    \n",
    "a=10\n",
    "test1()\n",
    "print('value of outside function:',a)"
   ]
  },
  {
   "cell_type": "markdown",
   "id": "0ece21f0",
   "metadata": {},
   "source": [
    "# Gloabal variables"
   ]
  },
  {
   "cell_type": "code",
   "execution_count": 20,
   "id": "3824380a",
   "metadata": {},
   "outputs": [
    {
     "name": "stdout",
     "output_type": "stream",
     "text": [
      "python is awesome\n",
      "python is best\n"
     ]
    }
   ],
   "source": [
    "#global variables example\n",
    "x='best' #global variables\n",
    "\n",
    "def myfunc():\n",
    "#     scope start\n",
    "    x='awesome'\n",
    "    print('python is',x)\n",
    "#     scope end\n",
    "\n",
    "myfunc()\n",
    "print('python is',x)"
   ]
  },
  {
   "cell_type": "code",
   "execution_count": 21,
   "id": "717982a5",
   "metadata": {},
   "outputs": [
    {
     "name": "stdout",
     "output_type": "stream",
     "text": [
      "5\n"
     ]
    }
   ],
   "source": [
    "def sum(a,b):\n",
    "    print(a+b)\n",
    "    \n",
    "sum(2,3)"
   ]
  },
  {
   "cell_type": "markdown",
   "id": "492b8404",
   "metadata": {},
   "source": [
    "# Arbitary arguments"
   ]
  },
  {
   "cell_type": "code",
   "execution_count": 27,
   "id": "685db2c3",
   "metadata": {},
   "outputs": [
    {
     "name": "stdout",
     "output_type": "stream",
     "text": [
      "the brilliant student is:hari\n"
     ]
    }
   ],
   "source": [
    "#passing multiple arguments\n",
    "def student(*stu):\n",
    "    print('the brilliant student is:'+stu[1])\n",
    "student(\"ragav\",\"hari\")"
   ]
  },
  {
   "cell_type": "code",
   "execution_count": 30,
   "id": "4e7c06d5",
   "metadata": {},
   "outputs": [
    {
     "name": "stdout",
     "output_type": "stream",
     "text": [
      "the brilliant student is:sharma ravi\n"
     ]
    }
   ],
   "source": [
    "#passing arguments through keywords\n",
    "def student(**stu):\n",
    "    print('the brilliant student is:'+stu['lname']+\" \"+stu['fname'])\n",
    "\n",
    "student(lname='sharma',fname='ravi')#this makes a dictionary of key values pairs"
   ]
  },
  {
   "cell_type": "markdown",
   "id": "6e734141",
   "metadata": {},
   "source": [
    "# lambda function"
   ]
  },
  {
   "cell_type": "code",
   "execution_count": 35,
   "id": "89595462",
   "metadata": {},
   "outputs": [
    {
     "name": "stdout",
     "output_type": "stream",
     "text": [
      "30\n"
     ]
    }
   ],
   "source": [
    "x=lambda a:a+10 #A lambda function can take any number of arguments, but can only have one expression.\n",
    "y = lambda a, b : a * b\n",
    "print(y(5,6))"
   ]
  },
  {
   "cell_type": "code",
   "execution_count": 36,
   "id": "e1a01b33",
   "metadata": {},
   "outputs": [
    {
     "name": "stdout",
     "output_type": "stream",
     "text": [
      "Note: you may need to restart the kernel to use updated packages.\n"
     ]
    },
    {
     "name": "stderr",
     "output_type": "stream",
     "text": [
      "ERROR: unknown command \"i\"\n",
      "\n"
     ]
    }
   ],
   "source": [
    "pip i pandas"
   ]
  },
  {
   "cell_type": "code",
   "execution_count": 37,
   "id": "ddc4f964",
   "metadata": {},
   "outputs": [
    {
     "name": "stdout",
     "output_type": "stream",
     "text": [
      "Requirement already satisfied: pandas in c:\\users\\sap\\anaconda3\\lib\\site-packages (1.4.2)\n",
      "Requirement already satisfied: numpy>=1.18.5 in c:\\users\\sap\\anaconda3\\lib\\site-packages (from pandas) (1.21.5)\n",
      "Requirement already satisfied: pytz>=2020.1 in c:\\users\\sap\\anaconda3\\lib\\site-packages (from pandas) (2021.3)\n",
      "Requirement already satisfied: python-dateutil>=2.8.1 in c:\\users\\sap\\anaconda3\\lib\\site-packages (from pandas) (2.8.2)\n",
      "Requirement already satisfied: six>=1.5 in c:\\users\\sap\\anaconda3\\lib\\site-packages (from python-dateutil>=2.8.1->pandas) (1.16.0)\n",
      "Note: you may need to restart the kernel to use updated packages.\n"
     ]
    }
   ],
   "source": [
    "pip install pandas"
   ]
  },
  {
   "cell_type": "code",
   "execution_count": 43,
   "id": "6a17408c",
   "metadata": {},
   "outputs": [
    {
     "name": "stdout",
     "output_type": "stream",
     "text": [
      "hello pranay\n"
     ]
    }
   ],
   "source": [
    "import greetings\n",
    "greetings.greeting('pranay')"
   ]
  },
  {
   "cell_type": "code",
   "execution_count": 46,
   "id": "8804ce1f",
   "metadata": {},
   "outputs": [
    {
     "name": "stdout",
     "output_type": "stream",
     "text": [
      "saswat\n"
     ]
    }
   ],
   "source": [
    "import MyModule\n",
    "print(MyModule.person1['name'])"
   ]
  },
  {
   "cell_type": "code",
   "execution_count": 47,
   "id": "e919e25b",
   "metadata": {},
   "outputs": [
    {
     "name": "stdout",
     "output_type": "stream",
     "text": [
      "['__doc__', '__loader__', '__name__', '__package__', '__spec__', 'acos', 'acosh', 'asin', 'asinh', 'atan', 'atan2', 'atanh', 'ceil', 'comb', 'copysign', 'cos', 'cosh', 'degrees', 'dist', 'e', 'erf', 'erfc', 'exp', 'expm1', 'fabs', 'factorial', 'floor', 'fmod', 'frexp', 'fsum', 'gamma', 'gcd', 'hypot', 'inf', 'isclose', 'isfinite', 'isinf', 'isnan', 'isqrt', 'lcm', 'ldexp', 'lgamma', 'log', 'log10', 'log1p', 'log2', 'modf', 'nan', 'nextafter', 'perm', 'pi', 'pow', 'prod', 'radians', 'remainder', 'sin', 'sinh', 'sqrt', 'tan', 'tanh', 'tau', 'trunc', 'ulp']\n"
     ]
    }
   ],
   "source": [
    "import math\n",
    "print(dir(math))"
   ]
  },
  {
   "cell_type": "code",
   "execution_count": 50,
   "id": "06bc3011",
   "metadata": {},
   "outputs": [
    {
     "name": "stdout",
     "output_type": "stream",
     "text": [
      "['_Processor', '_WIN32_CLIENT_RELEASES', '_WIN32_SERVER_RELEASES', '__builtins__', '__cached__', '__copyright__', '__doc__', '__file__', '__loader__', '__name__', '__package__', '__spec__', '__version__', '_comparable_version', '_component_re', '_default_architecture', '_follow_symlinks', '_get_machine_win32', '_ironpython26_sys_version_parser', '_ironpython_sys_version_parser', '_java_getprop', '_libc_search', '_mac_ver_xml', '_node', '_norm_version', '_platform', '_platform_cache', '_pypy_sys_version_parser', '_sys_version', '_sys_version_cache', '_sys_version_parser', '_syscmd_file', '_syscmd_ver', '_uname_cache', '_unknown_as_blank', '_ver_output', '_ver_stages', 'architecture', 'collections', 'functools', 'itertools', 'java_ver', 'libc_ver', 'mac_ver', 'machine', 'node', 'os', 'platform', 'processor', 'python_branch', 'python_build', 'python_compiler', 'python_implementation', 'python_revision', 'python_version', 'python_version_tuple', 're', 'release', 'subprocess', 'sys', 'system', 'system_alias', 'uname', 'uname_result', 'version', 'win32_edition', 'win32_is_iot', 'win32_ver']\n"
     ]
    }
   ],
   "source": [
    "import platform\n",
    "x=platform.system()\n",
    "y=dir(platform)\n",
    "print(y)"
   ]
  },
  {
   "cell_type": "markdown",
   "id": "1b669256",
   "metadata": {},
   "source": [
    "# class exaMPLES"
   ]
  },
  {
   "cell_type": "code",
   "execution_count": 54,
   "id": "4bb05f10",
   "metadata": {},
   "outputs": [
    {
     "name": "stdout",
     "output_type": "stream",
     "text": [
      "toyota 2016\n"
     ]
    }
   ],
   "source": [
    "class car:\n",
    "    def __init__(self,modelname,year):\n",
    "        self.modelname=modelname\n",
    "        self.year=year\n",
    "    def display(self):\n",
    "        print(self.modelname,self.year)\n",
    "        \n",
    "c1=car(\"toyota\",2016)\n",
    "c1.display()"
   ]
  },
  {
   "cell_type": "code",
   "execution_count": 59,
   "id": "ddfcbc93",
   "metadata": {},
   "outputs": [
    {
     "name": "stdout",
     "output_type": "stream",
     "text": [
      "hello my name is john and my age is 37\n"
     ]
    }
   ],
   "source": [
    "class person:\n",
    "    def __init__(mysillyobject,name,age):\n",
    "        mysillyobject.name=name\n",
    "        mysillyobject.age=age\n",
    "    def myfunc(abc):\n",
    "        print(f\"hello my name is {abc.name} and my age is {abc.age}\")\n",
    "p1=person(\"john\",37)\n",
    "p1.myfunc()"
   ]
  },
  {
   "cell_type": "markdown",
   "id": "78925a2a",
   "metadata": {},
   "source": [
    "# inheritance"
   ]
  },
  {
   "cell_type": "code",
   "execution_count": 7,
   "id": "2bea9c35",
   "metadata": {},
   "outputs": [
    {
     "name": "stdout",
     "output_type": "stream",
     "text": [
      "first functioning\n",
      "second functioning\n"
     ]
    }
   ],
   "source": [
    "#single inheritance\n",
    "class parent():\n",
    "    def first(self):\n",
    "        print('first functioning')\n",
    "class child(parent):\n",
    "    def second(self):\n",
    "        print('second functioning')\n",
    "        \n",
    "ob=child()\n",
    "ob.first()\n",
    "ob.second()"
   ]
  },
  {
   "cell_type": "code",
   "execution_count": null,
   "id": "7bc3b0a7",
   "metadata": {},
   "outputs": [],
   "source": []
  },
  {
   "cell_type": "code",
   "execution_count": 11,
   "id": "11378d79",
   "metadata": {},
   "outputs": [
    {
     "name": "stdout",
     "output_type": "stream",
     "text": [
      "the first function\n",
      "the second function\n",
      "the third function\n"
     ]
    }
   ],
   "source": [
    "#multiple inheritance\n",
    "class parent1:\n",
    "    def func1(self):\n",
    "        print('the first function')\n",
    "        \n",
    "class parent2:\n",
    "    def func2(self):\n",
    "        print('the second function')\n",
    "        \n",
    "class parent3(parent1,parent2):\n",
    "    def func3(self):\n",
    "        print('the third function')\n",
    "        \n",
    "ob=parent3()\n",
    "ob.func1()\n",
    "ob.func2()\n",
    "ob.func3()"
   ]
  },
  {
   "cell_type": "code",
   "execution_count": null,
   "id": "c21363e0",
   "metadata": {},
   "outputs": [],
   "source": []
  },
  {
   "cell_type": "code",
   "execution_count": null,
   "id": "c231dea5",
   "metadata": {},
   "outputs": [],
   "source": []
  },
  {
   "cell_type": "code",
   "execution_count": null,
   "id": "e3bf2cba",
   "metadata": {},
   "outputs": [],
   "source": []
  },
  {
   "cell_type": "markdown",
   "id": "8e4fb7b1",
   "metadata": {},
   "source": [
    "# function task"
   ]
  },
  {
   "cell_type": "code",
   "execution_count": 15,
   "id": "ce37f9cd",
   "metadata": {},
   "outputs": [
    {
     "name": "stdout",
     "output_type": "stream",
     "text": [
      "enter a number:3\n",
      "prime\n"
     ]
    }
   ],
   "source": [
    "#print the prime numbers\n",
    "num=int(input('enter a number:'))\n",
    "count=0\n",
    "for i in range(1,num+1):\n",
    "    \n",
    "    if(num%i==0):\n",
    "        count+=1\n",
    "if(count==2):\n",
    "    print('prime')"
   ]
  },
  {
   "cell_type": "code",
   "execution_count": 19,
   "id": "95127924",
   "metadata": {},
   "outputs": [
    {
     "name": "stdout",
     "output_type": "stream",
     "text": [
      "enter a number5\n",
      "factorial is: 120\n"
     ]
    }
   ],
   "source": [
    "#program to print factorial of number\n",
    "num=int(input('enter a number'))\n",
    "summ=1\n",
    "for i in range(1,num+1):\n",
    "    summ=summ*i;\n",
    "print('factorial is:',summ)"
   ]
  },
  {
   "cell_type": "code",
   "execution_count": null,
   "id": "7ad9b250",
   "metadata": {},
   "outputs": [],
   "source": []
  }
 ],
 "metadata": {
  "kernelspec": {
   "display_name": "Python 3 (ipykernel)",
   "language": "python",
   "name": "python3"
  },
  "language_info": {
   "codemirror_mode": {
    "name": "ipython",
    "version": 3
   },
   "file_extension": ".py",
   "mimetype": "text/x-python",
   "name": "python",
   "nbconvert_exporter": "python",
   "pygments_lexer": "ipython3",
   "version": "3.9.12"
  }
 },
 "nbformat": 4,
 "nbformat_minor": 5
}
