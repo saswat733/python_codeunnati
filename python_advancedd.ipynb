{
 "cells": [
  {
   "cell_type": "markdown",
   "id": "f62eae11",
   "metadata": {},
   "source": [
    "pip install pandas"
   ]
  },
  {
   "cell_type": "code",
   "execution_count": 1,
   "id": "5d87ab35",
   "metadata": {},
   "outputs": [
    {
     "name": "stdout",
     "output_type": "stream",
     "text": [
      "Requirement already satisfied: pandas in c:\\users\\sap\\anaconda3\\lib\\site-packages (1.4.2)\n",
      "Requirement already satisfied: numpy>=1.18.5 in c:\\users\\sap\\anaconda3\\lib\\site-packages (from pandas) (1.21.5)\n",
      "Requirement already satisfied: pytz>=2020.1 in c:\\users\\sap\\anaconda3\\lib\\site-packages (from pandas) (2021.3)\n",
      "Requirement already satisfied: python-dateutil>=2.8.1 in c:\\users\\sap\\anaconda3\\lib\\site-packages (from pandas) (2.8.2)\n",
      "Requirement already satisfied: six>=1.5 in c:\\users\\sap\\anaconda3\\lib\\site-packages (from python-dateutil>=2.8.1->pandas) (1.16.0)\n",
      "Note: you may need to restart the kernel to use updated packages.\n"
     ]
    }
   ],
   "source": [
    "pip install pandas"
   ]
  },
  {
   "cell_type": "code",
   "execution_count": 3,
   "id": "b3070733",
   "metadata": {},
   "outputs": [
    {
     "name": "stdout",
     "output_type": "stream",
     "text": [
      "Series([], dtype: float64)\n",
      "0    g\n",
      "1    e\n",
      "2    e\n",
      "3    k\n",
      "4    s\n",
      "dtype: object\n"
     ]
    },
    {
     "name": "stderr",
     "output_type": "stream",
     "text": [
      "C:\\Users\\SAP\\AppData\\Local\\Temp\\ipykernel_9324\\3193482268.py:4: FutureWarning: The default dtype for empty Series will be 'object' instead of 'float64' in a future version. Specify a dtype explicitly to silence this warning.\n",
      "  ser=pd.Series()\n"
     ]
    }
   ],
   "source": [
    "import pandas as pd\n",
    "import numpy as np\n",
    "\n",
    "ser=pd.Series()\n",
    "print(ser)\n",
    "\n",
    "data=np.array(['g','e','e','k','s'])\n",
    "ser=pd.Series(data)\n",
    "print(ser)"
   ]
  },
  {
   "cell_type": "markdown",
   "id": "444d36a9",
   "metadata": {},
   "source": [
    "# reading csv file"
   ]
  },
  {
   "cell_type": "code",
   "execution_count": 4,
   "id": "3a25fe56",
   "metadata": {},
   "outputs": [
    {
     "name": "stdout",
     "output_type": "stream",
     "text": [
      "                         Industry\n",
      "0              Accounting/Finance\n",
      "1    Advertising/Public Relations\n",
      "2              Aerospace/Aviation\n",
      "3   Arts/Entertainment/Publishing\n",
      "4                      Automotive\n",
      "5                Banking/Mortgage\n",
      "6            Business Development\n",
      "7            Business Opportunity\n",
      "8         Clerical/Administrative\n",
      "9         Construction/Facilities\n",
      "10                 Consumer Goods\n",
      "11               Customer Service\n",
      "12             Education/Training\n",
      "13               Energy/Utilities\n",
      "14                    Engineering\n",
      "15            Government/Military\n",
      "16                          Green\n",
      "17                     Healthcare\n",
      "18             Hospitality/Travel\n",
      "19                Human Resources\n",
      "20       Installation/Maintenance\n",
      "21                      Insurance\n",
      "22                       Internet\n",
      "23                Job Search Aids\n",
      "24       Law Enforcement/Security\n",
      "25                          Legal\n",
      "26           Management/Executive\n",
      "27       Manufacturing/Operations\n",
      "28                      Marketing\n",
      "29           Non-Profit/Volunteer\n",
      "30         Pharmaceutical/Biotech\n",
      "31          Professional Services\n",
      "32             QA/Quality Control\n",
      "33                    Real Estate\n",
      "34        Restaurant/Food Service\n",
      "35                         Retail\n",
      "36                          Sales\n",
      "37               Science/Research\n",
      "38                  Skilled Labor\n",
      "39                     Technology\n",
      "40             Telecommunications\n",
      "41       Transportation/Logistics\n",
      "42                          Other\n"
     ]
    }
   ],
   "source": [
    "import pandas as pd\n",
    "data=pd.read_csv('industry.csv')\n",
    "print(data)"
   ]
  },
  {
   "cell_type": "markdown",
   "id": "2ecd2e47",
   "metadata": {},
   "source": [
    "# creating dataframe using panda"
   ]
  },
  {
   "cell_type": "code",
   "execution_count": 6,
   "id": "9f62b725",
   "metadata": {},
   "outputs": [
    {
     "name": "stdout",
     "output_type": "stream",
     "text": [
      "    name  age\n",
      "0    tom   20\n",
      "1   nick   21\n",
      "2  krish   22\n",
      "3   jack   23\n"
     ]
    }
   ],
   "source": [
    "import pandas as pd\n",
    "\n",
    "data={'name':['tom','nick','krish','jack'],'age':[20,21,22,23]}\n",
    "df=pd.DataFrame(data)\n",
    "print(df)"
   ]
  },
  {
   "cell_type": "code",
   "execution_count": 7,
   "id": "380506e5",
   "metadata": {
    "scrolled": true
   },
   "outputs": [
    {
     "name": "stdout",
     "output_type": "stream",
     "text": [
      "      name  age         city\n",
      "0    alice   25     new york\n",
      "1      bob   30  Los angeles\n",
      "2  charlie   22      chicago\n",
      "3    david   28      houston\n"
     ]
    }
   ],
   "source": [
    "data_dict={\n",
    "    'name':['alice','bob','charlie','david'],\n",
    "    'age':[25,30,22,28],\n",
    "    'city':['new york','Los angeles','chicago','houston']\n",
    "}\n",
    "df_dict=pd.DataFrame(data_dict)\n",
    "print(df_dict)"
   ]
  },
  {
   "cell_type": "code",
   "execution_count": 8,
   "id": "7c3e4b64",
   "metadata": {
    "scrolled": true
   },
   "outputs": [
    {
     "name": "stdout",
     "output_type": "stream",
     "text": [
      "    name  age           city\n",
      "0   elly   29  san francisco\n",
      "1  belly   39    san andreas\n"
     ]
    }
   ],
   "source": [
    "#creating a dataframe using list of ditionaries\n",
    "\n",
    "data_list_of_dicts=[\n",
    "    {'name':'elly','age':29,'city':'san francisco'},\n",
    "    {'name':'belly','age':39,'city':'san andreas'},\n",
    "]\n",
    "\n",
    "df_from_list_dicts=pd.DataFrame(data_list_of_dicts)\n",
    "print(df_from_list_dicts)"
   ]
  },
  {
   "cell_type": "code",
   "execution_count": 21,
   "id": "2984c40c",
   "metadata": {},
   "outputs": [
    {
     "data": {
      "text/html": [
       "<div>\n",
       "<style scoped>\n",
       "    .dataframe tbody tr th:only-of-type {\n",
       "        vertical-align: middle;\n",
       "    }\n",
       "\n",
       "    .dataframe tbody tr th {\n",
       "        vertical-align: top;\n",
       "    }\n",
       "\n",
       "    .dataframe thead th {\n",
       "        text-align: right;\n",
       "    }\n",
       "</style>\n",
       "<table border=\"1\" class=\"dataframe\">\n",
       "  <thead>\n",
       "    <tr style=\"text-align: right;\">\n",
       "      <th></th>\n",
       "      <th>p</th>\n",
       "      <th>q</th>\n",
       "      <th>r</th>\n",
       "      <th>s</th>\n",
       "    </tr>\n",
       "  </thead>\n",
       "  <tbody>\n",
       "    <tr>\n",
       "      <th>parker</th>\n",
       "      <td>1</td>\n",
       "      <td>10</td>\n",
       "      <td>12</td>\n",
       "      <td>1</td>\n",
       "    </tr>\n",
       "    <tr>\n",
       "      <th>mark</th>\n",
       "      <td>2</td>\n",
       "      <td>11</td>\n",
       "      <td>1</td>\n",
       "      <td>31</td>\n",
       "    </tr>\n",
       "    <tr>\n",
       "      <th>binod</th>\n",
       "      <td>3</td>\n",
       "      <td>12</td>\n",
       "      <td>31</td>\n",
       "      <td>4</td>\n",
       "    </tr>\n",
       "    <tr>\n",
       "      <th>vinod</th>\n",
       "      <td>4</td>\n",
       "      <td>13</td>\n",
       "      <td>4</td>\n",
       "      <td>12</td>\n",
       "    </tr>\n",
       "    <tr>\n",
       "      <th>hari</th>\n",
       "      <td>5</td>\n",
       "      <td>14</td>\n",
       "      <td>1</td>\n",
       "      <td>54</td>\n",
       "    </tr>\n",
       "  </tbody>\n",
       "</table>\n",
       "</div>"
      ],
      "text/plain": [
       "        p   q   r   s\n",
       "parker  1  10  12   1\n",
       "mark    2  11   1  31\n",
       "binod   3  12  31   4\n",
       "vinod   4  13   4  12\n",
       "hari    5  14   1  54"
      ]
     },
     "execution_count": 21,
     "metadata": {},
     "output_type": "execute_result"
    }
   ],
   "source": [
    "import pandas as pd\n",
    "\n",
    "info =pd.DataFrame (\n",
    "    {\n",
    "        'p': [1, 2, 3, 4, 5],\n",
    "        'q': [10, 11, 12, 13, 14],\n",
    "        'r': [12, 1, 31, 4, 1],\n",
    "        's': [1, 31, 4, 12, 54]\n",
    "    },index = ['parker', 'mark', 'binod', 'vinod','hari']\n",
    ")\n",
    "info\n"
   ]
  },
  {
   "cell_type": "code",
   "execution_count": 23,
   "id": "c7b703f9",
   "metadata": {},
   "outputs": [
    {
     "data": {
      "text/html": [
       "<div>\n",
       "<style scoped>\n",
       "    .dataframe tbody tr th:only-of-type {\n",
       "        vertical-align: middle;\n",
       "    }\n",
       "\n",
       "    .dataframe tbody tr th {\n",
       "        vertical-align: top;\n",
       "    }\n",
       "\n",
       "    .dataframe thead th {\n",
       "        text-align: right;\n",
       "    }\n",
       "</style>\n",
       "<table border=\"1\" class=\"dataframe\">\n",
       "  <thead>\n",
       "    <tr style=\"text-align: right;\">\n",
       "      <th></th>\n",
       "      <th>p</th>\n",
       "      <th>q</th>\n",
       "      <th>r</th>\n",
       "      <th>s</th>\n",
       "    </tr>\n",
       "  </thead>\n",
       "  <tbody>\n",
       "    <tr>\n",
       "      <th>a</th>\n",
       "      <td>100</td>\n",
       "      <td>100</td>\n",
       "      <td>100</td>\n",
       "      <td>100</td>\n",
       "    </tr>\n",
       "    <tr>\n",
       "      <th>b</th>\n",
       "      <td>100</td>\n",
       "      <td>100</td>\n",
       "      <td>100</td>\n",
       "      <td>100</td>\n",
       "    </tr>\n",
       "    <tr>\n",
       "      <th>c</th>\n",
       "      <td>100</td>\n",
       "      <td>100</td>\n",
       "      <td>100</td>\n",
       "      <td>100</td>\n",
       "    </tr>\n",
       "    <tr>\n",
       "      <th>d</th>\n",
       "      <td>100</td>\n",
       "      <td>100</td>\n",
       "      <td>100</td>\n",
       "      <td>100</td>\n",
       "    </tr>\n",
       "    <tr>\n",
       "      <th>e</th>\n",
       "      <td>100</td>\n",
       "      <td>100</td>\n",
       "      <td>100</td>\n",
       "      <td>100</td>\n",
       "    </tr>\n",
       "  </tbody>\n",
       "</table>\n",
       "</div>"
      ],
      "text/plain": [
       "     p    q    r    s\n",
       "a  100  100  100  100\n",
       "b  100  100  100  100\n",
       "c  100  100  100  100\n",
       "d  100  100  100  100\n",
       "e  100  100  100  100"
      ]
     },
     "execution_count": 23,
     "metadata": {},
     "output_type": "execute_result"
    }
   ],
   "source": [
    "# reindexing\n",
    "info.reindex(['a','b','c','d','e'],fill_value=100)"
   ]
  },
  {
   "cell_type": "markdown",
   "id": "714bc6d8",
   "metadata": {},
   "source": [
    "# pandas sort"
   ]
  },
  {
   "cell_type": "code",
   "execution_count": 28,
   "id": "9c88b412",
   "metadata": {},
   "outputs": [
    {
     "data": {
      "text/html": [
       "<div>\n",
       "<style scoped>\n",
       "    .dataframe tbody tr th:only-of-type {\n",
       "        vertical-align: middle;\n",
       "    }\n",
       "\n",
       "    .dataframe tbody tr th {\n",
       "        vertical-align: top;\n",
       "    }\n",
       "\n",
       "    .dataframe thead th {\n",
       "        text-align: right;\n",
       "    }\n",
       "</style>\n",
       "<table border=\"1\" class=\"dataframe\">\n",
       "  <thead>\n",
       "    <tr style=\"text-align: right;\">\n",
       "      <th></th>\n",
       "      <th>0</th>\n",
       "      <th>1</th>\n",
       "    </tr>\n",
       "  </thead>\n",
       "  <tbody>\n",
       "    <tr>\n",
       "      <th>1</th>\n",
       "      <td>-0.458161</td>\n",
       "      <td>0.934228</td>\n",
       "    </tr>\n",
       "    <tr>\n",
       "      <th>2</th>\n",
       "      <td>0.488387</td>\n",
       "      <td>-0.794958</td>\n",
       "    </tr>\n",
       "    <tr>\n",
       "      <th>3</th>\n",
       "      <td>0.661559</td>\n",
       "      <td>1.213234</td>\n",
       "    </tr>\n",
       "    <tr>\n",
       "      <th>4</th>\n",
       "      <td>1.223157</td>\n",
       "      <td>-0.646153</td>\n",
       "    </tr>\n",
       "    <tr>\n",
       "      <th>5</th>\n",
       "      <td>-1.013985</td>\n",
       "      <td>1.861040</td>\n",
       "    </tr>\n",
       "    <tr>\n",
       "      <th>6</th>\n",
       "      <td>-0.045204</td>\n",
       "      <td>-0.762717</td>\n",
       "    </tr>\n",
       "    <tr>\n",
       "      <th>7</th>\n",
       "      <td>2.402875</td>\n",
       "      <td>1.309209</td>\n",
       "    </tr>\n",
       "    <tr>\n",
       "      <th>8</th>\n",
       "      <td>-2.151730</td>\n",
       "      <td>0.534969</td>\n",
       "    </tr>\n",
       "    <tr>\n",
       "      <th>8</th>\n",
       "      <td>-0.654866</td>\n",
       "      <td>-0.576004</td>\n",
       "    </tr>\n",
       "    <tr>\n",
       "      <th>9</th>\n",
       "      <td>-0.409706</td>\n",
       "      <td>-0.328174</td>\n",
       "    </tr>\n",
       "  </tbody>\n",
       "</table>\n",
       "</div>"
      ],
      "text/plain": [
       "          0         1\n",
       "1 -0.458161  0.934228\n",
       "2  0.488387 -0.794958\n",
       "3  0.661559  1.213234\n",
       "4  1.223157 -0.646153\n",
       "5 -1.013985  1.861040\n",
       "6 -0.045204 -0.762717\n",
       "7  2.402875  1.309209\n",
       "8 -2.151730  0.534969\n",
       "8 -0.654866 -0.576004\n",
       "9 -0.409706 -0.328174"
      ]
     },
     "execution_count": 28,
     "metadata": {},
     "output_type": "execute_result"
    }
   ],
   "source": [
    "#ascending sorting\n",
    "unsorted_df=pd.DataFrame(np.random.randn(10,2),index=[1,4,6,2,3,5,9,8,8,7])\n",
    "sorted_df=unsorted_df.sort_index()\n",
    "sorted_df"
   ]
  },
  {
   "cell_type": "code",
   "execution_count": 29,
   "id": "d00c9604",
   "metadata": {},
   "outputs": [
    {
     "data": {
      "text/html": [
       "<div>\n",
       "<style scoped>\n",
       "    .dataframe tbody tr th:only-of-type {\n",
       "        vertical-align: middle;\n",
       "    }\n",
       "\n",
       "    .dataframe tbody tr th {\n",
       "        vertical-align: top;\n",
       "    }\n",
       "\n",
       "    .dataframe thead th {\n",
       "        text-align: right;\n",
       "    }\n",
       "</style>\n",
       "<table border=\"1\" class=\"dataframe\">\n",
       "  <thead>\n",
       "    <tr style=\"text-align: right;\">\n",
       "      <th></th>\n",
       "      <th>0</th>\n",
       "      <th>1</th>\n",
       "    </tr>\n",
       "  </thead>\n",
       "  <tbody>\n",
       "    <tr>\n",
       "      <th>9</th>\n",
       "      <td>0.876539</td>\n",
       "      <td>-1.202671</td>\n",
       "    </tr>\n",
       "    <tr>\n",
       "      <th>8</th>\n",
       "      <td>-0.800651</td>\n",
       "      <td>-1.463968</td>\n",
       "    </tr>\n",
       "    <tr>\n",
       "      <th>8</th>\n",
       "      <td>-0.245183</td>\n",
       "      <td>0.190741</td>\n",
       "    </tr>\n",
       "    <tr>\n",
       "      <th>7</th>\n",
       "      <td>0.077200</td>\n",
       "      <td>2.750801</td>\n",
       "    </tr>\n",
       "    <tr>\n",
       "      <th>6</th>\n",
       "      <td>0.269087</td>\n",
       "      <td>-1.462676</td>\n",
       "    </tr>\n",
       "    <tr>\n",
       "      <th>5</th>\n",
       "      <td>-0.285758</td>\n",
       "      <td>0.441764</td>\n",
       "    </tr>\n",
       "    <tr>\n",
       "      <th>4</th>\n",
       "      <td>-0.138224</td>\n",
       "      <td>-0.140734</td>\n",
       "    </tr>\n",
       "    <tr>\n",
       "      <th>3</th>\n",
       "      <td>-0.917246</td>\n",
       "      <td>0.743865</td>\n",
       "    </tr>\n",
       "    <tr>\n",
       "      <th>2</th>\n",
       "      <td>-0.816697</td>\n",
       "      <td>-0.462336</td>\n",
       "    </tr>\n",
       "    <tr>\n",
       "      <th>1</th>\n",
       "      <td>1.333163</td>\n",
       "      <td>-0.471448</td>\n",
       "    </tr>\n",
       "  </tbody>\n",
       "</table>\n",
       "</div>"
      ],
      "text/plain": [
       "          0         1\n",
       "9  0.876539 -1.202671\n",
       "8 -0.800651 -1.463968\n",
       "8 -0.245183  0.190741\n",
       "7  0.077200  2.750801\n",
       "6  0.269087 -1.462676\n",
       "5 -0.285758  0.441764\n",
       "4 -0.138224 -0.140734\n",
       "3 -0.917246  0.743865\n",
       "2 -0.816697 -0.462336\n",
       "1  1.333163 -0.471448"
      ]
     },
     "execution_count": 29,
     "metadata": {},
     "output_type": "execute_result"
    }
   ],
   "source": [
    "#descending sorting\n",
    "unsorted_df=pd.DataFrame(np.random.randn(10,2),index=[1,4,6,2,3,5,9,8,8,7])\n",
    "sorted_df=unsorted_df.sort_index(ascending=False)\n",
    "sorted_df"
   ]
  },
  {
   "cell_type": "code",
   "execution_count": 30,
   "id": "0f4bcfbc",
   "metadata": {},
   "outputs": [
    {
     "data": {
      "text/html": [
       "<div>\n",
       "<style scoped>\n",
       "    .dataframe tbody tr th:only-of-type {\n",
       "        vertical-align: middle;\n",
       "    }\n",
       "\n",
       "    .dataframe tbody tr th {\n",
       "        vertical-align: top;\n",
       "    }\n",
       "\n",
       "    .dataframe thead th {\n",
       "        text-align: right;\n",
       "    }\n",
       "</style>\n",
       "<table border=\"1\" class=\"dataframe\">\n",
       "  <thead>\n",
       "    <tr style=\"text-align: right;\">\n",
       "      <th></th>\n",
       "      <th>0</th>\n",
       "      <th>1</th>\n",
       "    </tr>\n",
       "  </thead>\n",
       "  <tbody>\n",
       "    <tr>\n",
       "      <th>1</th>\n",
       "      <td>0.134256</td>\n",
       "      <td>2.538218</td>\n",
       "    </tr>\n",
       "    <tr>\n",
       "      <th>4</th>\n",
       "      <td>0.686496</td>\n",
       "      <td>1.475447</td>\n",
       "    </tr>\n",
       "    <tr>\n",
       "      <th>6</th>\n",
       "      <td>1.403640</td>\n",
       "      <td>1.498761</td>\n",
       "    </tr>\n",
       "    <tr>\n",
       "      <th>2</th>\n",
       "      <td>-1.281361</td>\n",
       "      <td>-0.530168</td>\n",
       "    </tr>\n",
       "    <tr>\n",
       "      <th>3</th>\n",
       "      <td>-0.291505</td>\n",
       "      <td>-2.034289</td>\n",
       "    </tr>\n",
       "    <tr>\n",
       "      <th>5</th>\n",
       "      <td>0.672195</td>\n",
       "      <td>-1.242875</td>\n",
       "    </tr>\n",
       "    <tr>\n",
       "      <th>9</th>\n",
       "      <td>0.430474</td>\n",
       "      <td>-0.703916</td>\n",
       "    </tr>\n",
       "    <tr>\n",
       "      <th>8</th>\n",
       "      <td>-1.024710</td>\n",
       "      <td>-0.708147</td>\n",
       "    </tr>\n",
       "    <tr>\n",
       "      <th>8</th>\n",
       "      <td>-0.548726</td>\n",
       "      <td>-0.376767</td>\n",
       "    </tr>\n",
       "    <tr>\n",
       "      <th>7</th>\n",
       "      <td>-0.870464</td>\n",
       "      <td>-0.546364</td>\n",
       "    </tr>\n",
       "  </tbody>\n",
       "</table>\n",
       "</div>"
      ],
      "text/plain": [
       "          0         1\n",
       "1  0.134256  2.538218\n",
       "4  0.686496  1.475447\n",
       "6  1.403640  1.498761\n",
       "2 -1.281361 -0.530168\n",
       "3 -0.291505 -2.034289\n",
       "5  0.672195 -1.242875\n",
       "9  0.430474 -0.703916\n",
       "8 -1.024710 -0.708147\n",
       "8 -0.548726 -0.376767\n",
       "7 -0.870464 -0.546364"
      ]
     },
     "execution_count": 30,
     "metadata": {},
     "output_type": "execute_result"
    }
   ],
   "source": [
    "#sorting through columns\n",
    "unsorted_df=pd.DataFrame(np.random.randn(10,2),index=[1,4,6,2,3,5,9,8,8,7])\n",
    "sorted_df=unsorted_df.sort_index(axis=1)\n",
    "sorted_df"
   ]
  },
  {
   "cell_type": "code",
   "execution_count": 35,
   "id": "26a03ca5",
   "metadata": {},
   "outputs": [
    {
     "data": {
      "text/html": [
       "<div>\n",
       "<style scoped>\n",
       "    .dataframe tbody tr th:only-of-type {\n",
       "        vertical-align: middle;\n",
       "    }\n",
       "\n",
       "    .dataframe tbody tr th {\n",
       "        vertical-align: top;\n",
       "    }\n",
       "\n",
       "    .dataframe thead th {\n",
       "        text-align: right;\n",
       "    }\n",
       "</style>\n",
       "<table border=\"1\" class=\"dataframe\">\n",
       "  <thead>\n",
       "    <tr style=\"text-align: right;\">\n",
       "      <th></th>\n",
       "      <th>col1</th>\n",
       "      <th>col2</th>\n",
       "    </tr>\n",
       "  </thead>\n",
       "  <tbody>\n",
       "    <tr>\n",
       "      <th>1</th>\n",
       "      <td>1</td>\n",
       "      <td>3</td>\n",
       "    </tr>\n",
       "    <tr>\n",
       "      <th>2</th>\n",
       "      <td>1</td>\n",
       "      <td>2</td>\n",
       "    </tr>\n",
       "    <tr>\n",
       "      <th>3</th>\n",
       "      <td>1</td>\n",
       "      <td>4</td>\n",
       "    </tr>\n",
       "    <tr>\n",
       "      <th>0</th>\n",
       "      <td>2</td>\n",
       "      <td>1</td>\n",
       "    </tr>\n",
       "  </tbody>\n",
       "</table>\n",
       "</div>"
      ],
      "text/plain": [
       "   col1  col2\n",
       "1     1     3\n",
       "2     1     2\n",
       "3     1     4\n",
       "0     2     1"
      ]
     },
     "execution_count": 35,
     "metadata": {},
     "output_type": "execute_result"
    }
   ],
   "source": [
    "#sort by value\n",
    "\n",
    "unsorted_df=pd.DataFrame({'col1':[2,1,1,1],'col2':[1,3,2,4]})\n",
    "sorted_df=unsorted_df.sort_values(by='col1')\n",
    "sorted_df"
   ]
  },
  {
   "cell_type": "markdown",
   "id": "2002da94",
   "metadata": {},
   "source": [
    "# working with text data"
   ]
  },
  {
   "cell_type": "code",
   "execution_count": 37,
   "id": "db54d773",
   "metadata": {},
   "outputs": [
    {
     "name": "stdout",
     "output_type": "stream",
     "text": [
      "0             TOM\n",
      "1    WILLIAM RICK\n",
      "2            JOHN\n",
      "3          ALBERT\n",
      "4             NaN\n",
      "5            1234\n",
      "6      STEVESMITH\n",
      "dtype: object\n"
     ]
    }
   ],
   "source": [
    "s=pd.Series(['tom','william rick','john','albert',np.nan,'1234','Stevesmith'])\n",
    "print(s.str.upper())"
   ]
  },
  {
   "cell_type": "markdown",
   "id": "8232cb04",
   "metadata": {},
   "source": [
    "# Statistical Functions"
   ]
  },
  {
   "cell_type": "code",
   "execution_count": 41,
   "id": "982e5bae",
   "metadata": {},
   "outputs": [
    {
     "data": {
      "text/plain": [
       "maths       759\n",
       "Science    7968\n",
       "dtype: int64"
      ]
     },
     "execution_count": 41,
     "metadata": {},
     "output_type": "execute_result"
    }
   ],
   "source": [
    "data={\n",
    "    'maths':[90,290,10,29,340],\n",
    "    'Science':[309,3481,3498,450,230]\n",
    "}\n",
    "df=pd.DataFrame(data)\n",
    "df\n",
    "df.sum()"
   ]
  },
  {
   "cell_type": "code",
   "execution_count": 40,
   "id": "b1ce82b7",
   "metadata": {},
   "outputs": [
    {
     "data": {
      "text/plain": [
       "maths       90.0\n",
       "Science    450.0\n",
       "dtype: float64"
      ]
     },
     "execution_count": 40,
     "metadata": {},
     "output_type": "execute_result"
    }
   ],
   "source": [
    "df.median()"
   ]
  },
  {
   "cell_type": "code",
   "execution_count": 44,
   "id": "3f51b586",
   "metadata": {},
   "outputs": [],
   "source": [
    "s=pd.Series(['monday','tuesaday','wednesday','thrusday','friday','saturday','sunday'])"
   ]
  },
  {
   "cell_type": "code",
   "execution_count": 43,
   "id": "dfd4957b",
   "metadata": {},
   "outputs": [
    {
     "data": {
      "text/plain": [
       "0       monday\n",
       "1     tuesaday\n",
       "2    wednesday\n",
       "3     thrusday\n",
       "4       friday\n",
       "5     saturday\n",
       "6       sunday\n",
       "dtype: object"
      ]
     },
     "execution_count": 43,
     "metadata": {},
     "output_type": "execute_result"
    }
   ],
   "source": [
    "s"
   ]
  },
  {
   "cell_type": "code",
   "execution_count": 45,
   "id": "7b498de4",
   "metadata": {},
   "outputs": [
    {
     "name": "stdout",
     "output_type": "stream",
     "text": [
      "friday\n"
     ]
    }
   ],
   "source": [
    "print(s[4])"
   ]
  },
  {
   "cell_type": "code",
   "execution_count": null,
   "id": "c50b634d",
   "metadata": {},
   "outputs": [],
   "source": []
  },
  {
   "cell_type": "code",
   "execution_count": 47,
   "id": "5cab7313",
   "metadata": {},
   "outputs": [
    {
     "data": {
      "text/plain": [
       "day1    NaN\n",
       "day2    NaN\n",
       "day3    NaN\n",
       "day4    NaN\n",
       "day5    NaN\n",
       "day6    NaN\n",
       "day7    NaN\n",
       "dtype: object"
      ]
     },
     "execution_count": 47,
     "metadata": {},
     "output_type": "execute_result"
    }
   ],
   "source": [
    "s1"
   ]
  },
  {
   "cell_type": "code",
   "execution_count": null,
   "id": "53f54c19",
   "metadata": {},
   "outputs": [],
   "source": []
  }
 ],
 "metadata": {
  "kernelspec": {
   "display_name": "Python 3 (ipykernel)",
   "language": "python",
   "name": "python3"
  },
  "language_info": {
   "codemirror_mode": {
    "name": "ipython",
    "version": 3
   },
   "file_extension": ".py",
   "mimetype": "text/x-python",
   "name": "python",
   "nbconvert_exporter": "python",
   "pygments_lexer": "ipython3",
   "version": "3.9.12"
  }
 },
 "nbformat": 4,
 "nbformat_minor": 5
}
